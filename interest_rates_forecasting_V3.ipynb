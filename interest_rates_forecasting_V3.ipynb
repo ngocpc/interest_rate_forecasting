{
 "cells": [
  {
   "cell_type": "markdown",
   "metadata": {},
   "source": [
    "## Imports"
   ]
  },
  {
   "cell_type": "code",
   "execution_count": 1,
   "metadata": {},
   "outputs": [],
   "source": [
    "%load_ext autoreload\n",
    "%autoreload 2\n",
    "\n",
    "%matplotlib inline"
   ]
  },
  {
   "cell_type": "code",
   "execution_count": 2,
   "metadata": {},
   "outputs": [
    {
     "name": "stderr",
     "output_type": "stream",
     "text": [
      "Using TensorFlow backend.\n"
     ]
    }
   ],
   "source": [
    "from matplotlib import pyplot as plt\n",
    "import seaborn as sns\n",
    "sns.set(style=\"white\", palette=\"colorblind\", font_scale=1.2, \n",
    "        rc={\"figure.figsize\":(12,9)})\n",
    "import pandas as pd\n",
    "import numpy as np\n",
    "import re\n",
    "from pandas.api.types import is_string_dtype, is_numeric_dtype\n",
    "import os\n",
    "import sys\n",
    "import time\n",
    "\n",
    "\n",
    "from pandas_summary import DataFrameSummary\n",
    "from IPython.display import display\n",
    "\n",
    "import sklearn\n",
    "from sklearn import metrics\n",
    "from sklearn.ensemble import RandomForestClassifier, GradientBoostingClassifier\n",
    "from sklearn.pipeline import Pipeline, make_pipeline\n",
    "from sklearn.model_selection import GridSearchCV\n",
    "\n",
    "\n",
    "from keras.models import Sequential\n",
    "from keras.layers import LSTM, Dense, Dropout, Activation"
   ]
  },
  {
   "cell_type": "code",
   "execution_count": 3,
   "metadata": {},
   "outputs": [],
   "source": [
    "PATH = \"data/\""
   ]
  },
  {
   "cell_type": "code",
   "execution_count": 4,
   "metadata": {},
   "outputs": [
    {
     "name": "stdout",
     "output_type": "stream",
     "text": [
      "'20190325 - data science exercise - data description.txt'\r\n",
      "'20190325 - data science exercise.xlsx'\r\n"
     ]
    }
   ],
   "source": [
    "!ls {PATH}"
   ]
  },
  {
   "cell_type": "markdown",
   "metadata": {},
   "source": [
    "## Functions\n",
    "The followings are helper functions from **fast.ai** library"
   ]
  },
  {
   "cell_type": "code",
   "execution_count": 5,
   "metadata": {},
   "outputs": [],
   "source": [
    "def display_all(df):\n",
    "    with pd.option_context(\"display.max_rows\", 1000, \"display.max_columns\", 1000): \n",
    "        display(df)\n",
    "        \n",
    "def plot_fi(fi): return fi.plot('cols', 'imp', 'barh', figsize=(9,6), legend=False, color='cornflowerblue')\n",
    "  \n",
    "def split_vals(a,n): return a[:n].copy(), a[n:].copy()\n",
    "\n",
    "def add_datepart(df, fldname, drop=True, time=False, errors=\"raise\"):   \n",
    "    \"\"\"add_datepart converts a column of df from a datetime64 to many columns containing\n",
    "    the information from the date. This applies changes inplace.\n",
    "    Parameters:\n",
    "    -----------\n",
    "    df: A pandas data frame. df gain several new columns.\n",
    "    fldname: A string that is the name of the date column you wish to expand.\n",
    "        If it is not a datetime64 series, it will be converted to one with pd.to_datetime.\n",
    "    drop: If true then the original date column will be removed.\n",
    "    time: If true time features: Hour, Minute, Second will be added.\n",
    "    Examples:\n",
    "    ---------\n",
    "    >>> df = pd.DataFrame({ 'A' : pd.to_datetime(['3/11/2000', '3/12/2000', '3/13/2000'], infer_datetime_format=False) })\n",
    "    >>> df\n",
    "        A\n",
    "    0   2000-03-11\n",
    "    1   2000-03-12\n",
    "    2   2000-03-13\n",
    "    >>> add_datepart(df, 'A')\n",
    "    >>> df\n",
    "        AYear AMonth AWeek ADay ADayofweek ADayofyear AIs_month_end AIs_month_start AIs_quarter_end AIs_quarter_start AIs_year_end AIs_year_start AElapsed\n",
    "    0   2000  3      10    11   5          71         False         False           False           False             False        False          952732800\n",
    "    1   2000  3      10    12   6          72         False         False           False           False             False        False          952819200\n",
    "    2   2000  3      11    13   0          73         False         False           False           False             False        False          952905600\n",
    "    \"\"\"\n",
    "    fld = df[fldname]\n",
    "    fld_dtype = fld.dtype\n",
    "    if isinstance(fld_dtype, pd.core.dtypes.dtypes.DatetimeTZDtype):\n",
    "        fld_dtype = np.datetime64\n",
    "\n",
    "    if not np.issubdtype(fld_dtype, np.datetime64):\n",
    "        df[fldname] = fld = pd.to_datetime(fld, infer_datetime_format=True, errors=errors)\n",
    "    targ_pre = re.sub('[Dd]ate$', '', fldname)\n",
    "    attr = ['Year', 'Month', 'Week', 'Day', 'Dayofweek', 'Dayofyear',\n",
    "            'Is_month_end', 'Is_month_start', 'Is_quarter_end', 'Is_quarter_start', 'Is_year_end', 'Is_year_start']\n",
    "    if time: attr = attr + ['Hour', 'Minute', 'Second']\n",
    "    for n in attr: df[targ_pre + n] = getattr(fld.dt, n.lower())\n",
    "    df[targ_pre + 'Elapsed'] = fld.astype(np.int64) // 10 ** 9\n",
    "    if drop: df.drop(fldname, axis=1, inplace=True)\n",
    "\n",
    "def proc_df(df, y_fld=None, skip_flds=None, ignore_flds=None, do_scale=False, na_dict=None,\n",
    "            preproc_fn=None, max_n_cat=None, subset=None, mapper=None):\n",
    "    \"\"\" proc_df takes a data frame df and splits off the response variable, and\n",
    "    changes the df into an entirely numeric dataframe.\n",
    "    Parameters:\n",
    "    -----------\n",
    "    df: The data frame you wish to process.\n",
    "    y_fld: The name of the response variable\n",
    "    skip_flds: A list of fields that dropped from df.\n",
    "    ignore_flds: A list of fields that are ignored during processing.\n",
    "    do_scale: Standardizes each column in df. Takes Boolean Values(True,False)\n",
    "    na_dict: a dictionary of na columns to add. Na columns are also added if there\n",
    "        are any missing values.\n",
    "    preproc_fn: A function that gets applied to df.\n",
    "    max_n_cat: The maximum number of categories to break into dummy values, instead\n",
    "        of integer codes.\n",
    "    subset: Takes a random subset of size subset from df.\n",
    "    mapper: If do_scale is set as True, the mapper variable\n",
    "        calculates the values used for scaling of variables during training time (mean and standard deviation).\n",
    "    Returns:\n",
    "    --------\n",
    "    [x, y, nas, mapper(optional)]:\n",
    "        x: x is the transformed version of df. x will not have the response variable\n",
    "            and is entirely numeric.\n",
    "        y: y is the response variable\n",
    "        nas: returns a dictionary of which nas it created, and the associated median.\n",
    "        mapper: A DataFrameMapper which stores the mean and standard deviation of the corresponding continuous\n",
    "        variables which is then used for scaling of during test-time.\n",
    "    Examples:\n",
    "    ---------\n",
    "    >>> df = pd.DataFrame({'col1' : [1, 2, 3], 'col2' : ['a', 'b', 'a']})\n",
    "    >>> df\n",
    "       col1 col2\n",
    "    0     1    a\n",
    "    1     2    b\n",
    "    2     3    a\n",
    "    note the type of col2 is string\n",
    "    >>> train_cats(df)\n",
    "    >>> df\n",
    "       col1 col2\n",
    "    0     1    a\n",
    "    1     2    b\n",
    "    2     3    a\n",
    "    now the type of col2 is category { a : 1, b : 2}\n",
    "    >>> x, y, nas = proc_df(df, 'col1')\n",
    "    >>> x\n",
    "       col2\n",
    "    0     1\n",
    "    1     2\n",
    "    2     1\n",
    "    >>> data = DataFrame(pet=[\"cat\", \"dog\", \"dog\", \"fish\", \"cat\", \"dog\", \"cat\", \"fish\"],\n",
    "                 children=[4., 6, 3, 3, 2, 3, 5, 4],\n",
    "                 salary=[90, 24, 44, 27, 32, 59, 36, 27])\n",
    "    >>> mapper = DataFrameMapper([(:pet, LabelBinarizer()),\n",
    "                          ([:children], StandardScaler())])\n",
    "    >>>round(fit_transform!(mapper, copy(data)), 2)\n",
    "    8x4 Array{Float64,2}:\n",
    "    1.0  0.0  0.0   0.21\n",
    "    0.0  1.0  0.0   1.88\n",
    "    0.0  1.0  0.0  -0.63\n",
    "    0.0  0.0  1.0  -0.63\n",
    "    1.0  0.0  0.0  -1.46\n",
    "    0.0  1.0  0.0  -0.63\n",
    "    1.0  0.0  0.0   1.04\n",
    "    0.0  0.0  1.0   0.21\n",
    "    \"\"\"\n",
    "    if not ignore_flds: ignore_flds=[]\n",
    "    if not skip_flds: skip_flds=[]\n",
    "    if subset: pass\n",
    "    else: df = df.copy()\n",
    "    ignored_flds = df.loc[:, ignore_flds]\n",
    "    df.drop(ignore_flds, axis=1, inplace=True)\n",
    "    if preproc_fn: pass\n",
    "    if y_fld is None: y = None\n",
    "    else:\n",
    "        if not is_numeric_dtype(df[y_fld]): df[y_fld] = df[y_fld].cat.codes\n",
    "        y = df[y_fld].values\n",
    "        skip_flds += [y_fld]\n",
    "    df.drop(skip_flds, axis=1, inplace=True)\n",
    "\n",
    "    if na_dict is None: na_dict = {}\n",
    "    else: na_dict = na_dict.copy()\n",
    "    na_dict_initial = na_dict.copy()\n",
    "    for n,c in df.items(): na_dict = fix_missing(df, c, n, na_dict)\n",
    "    if len(na_dict_initial.keys()) > 0:\n",
    "        df.drop([a + '_na' for a in list(set(na_dict.keys()) - set(na_dict_initial.keys()))], axis=1, inplace=True)\n",
    "    if do_scale: pass\n",
    "    for n,c in df.items(): numericalize(df, c, n, max_n_cat)\n",
    "    df = pd.get_dummies(df, dummy_na=True)\n",
    "    df = pd.concat([ignored_flds, df], axis=1)\n",
    "    res = [df, y, na_dict]\n",
    "    if do_scale: pass\n",
    "    return res\n",
    "\n",
    "def numericalize(df, col, name, max_n_cat):\n",
    "    \"\"\" Changes the column col from a categorical type to it's integer codes.\n",
    "    Parameters:\n",
    "    -----------\n",
    "    df: A pandas dataframe. df[name] will be filled with the integer codes from\n",
    "        col.\n",
    "    col: The column you wish to change into the categories.\n",
    "    name: The column name you wish to insert into df. This column will hold the\n",
    "        integer codes.\n",
    "    max_n_cat: If col has more categories than max_n_cat it will not change the\n",
    "        it to its integer codes. If max_n_cat is None, then col will always be\n",
    "        converted.\n",
    "    Examples:\n",
    "    ---------\n",
    "    >>> df = pd.DataFrame({'col1' : [1, 2, 3], 'col2' : ['a', 'b', 'a']})\n",
    "    >>> df\n",
    "       col1 col2\n",
    "    0     1    a\n",
    "    1     2    b\n",
    "    2     3    a\n",
    "    note the type of col2 is string\n",
    "    >>> train_cats(df)\n",
    "    >>> df\n",
    "       col1 col2\n",
    "    0     1    a\n",
    "    1     2    b\n",
    "    2     3    a\n",
    "    now the type of col2 is category { a : 1, b : 2}\n",
    "    >>> numericalize(df, df['col2'], 'col3', None)\n",
    "       col1 col2 col3\n",
    "    0     1    a    1\n",
    "    1     2    b    2\n",
    "    2     3    a    1\n",
    "    \"\"\"\n",
    "    if not is_numeric_dtype(col) and ( max_n_cat is None or len(col.cat.categories)>max_n_cat):\n",
    "        df[name] = col.cat.codes+1\n",
    "\n",
    "def fix_missing(df, col, name, na_dict):\n",
    "    \"\"\" Fill missing data in a column of df with the median, and add a {name}_na column\n",
    "    which specifies if the data was missing.\n",
    "    Parameters:\n",
    "    -----------\n",
    "    df: The data frame that will be changed.\n",
    "    col: The column of data to fix by filling in missing data.\n",
    "    name: The name of the new filled column in df.\n",
    "    na_dict: A dictionary of values to create na's of and the value to insert. If\n",
    "        name is not a key of na_dict the median will fill any missing data. Also\n",
    "        if name is not a key of na_dict and there is no missing data in col, then\n",
    "        no {name}_na column is not created.\n",
    "    Examples:\n",
    "    ---------\n",
    "    >>> df = pd.DataFrame({'col1' : [1, np.NaN, 3], 'col2' : [5, 2, 2]})\n",
    "    >>> df\n",
    "       col1 col2\n",
    "    0     1    5\n",
    "    1   nan    2\n",
    "    2     3    2\n",
    "    >>> fix_missing(df, df['col1'], 'col1', {})\n",
    "    >>> df\n",
    "       col1 col2 col1_na\n",
    "    0     1    5   False\n",
    "    1     2    2    True\n",
    "    2     3    2   False\n",
    "    >>> df = pd.DataFrame({'col1' : [1, np.NaN, 3], 'col2' : [5, 2, 2]})\n",
    "    >>> df\n",
    "       col1 col2\n",
    "    0     1    5\n",
    "    1   nan    2\n",
    "    2     3    2\n",
    "    >>> fix_missing(df, df['col2'], 'col2', {})\n",
    "    >>> df\n",
    "       col1 col2\n",
    "    0     1    5\n",
    "    1   nan    2\n",
    "    2     3    2\n",
    "    >>> df = pd.DataFrame({'col1' : [1, np.NaN, 3], 'col2' : [5, 2, 2]})\n",
    "    >>> df\n",
    "       col1 col2\n",
    "    0     1    5\n",
    "    1   nan    2\n",
    "    2     3    2\n",
    "    >>> fix_missing(df, df['col1'], 'col1', {'col1' : 500})\n",
    "    >>> df\n",
    "       col1 col2 col1_na\n",
    "    0     1    5   False\n",
    "    1   500    2    True\n",
    "    2     3    2   False\n",
    "    \"\"\"\n",
    "    if is_numeric_dtype(col):\n",
    "        if pd.isnull(col).sum() or (name in na_dict):\n",
    "            df[name+'_na'] = pd.isnull(col)\n",
    "            filler = na_dict[name] if name in na_dict else col.median()\n",
    "            df[name] = col.fillna(filler)\n",
    "            na_dict[name] = filler\n",
    "    return na_dict\n",
    "\n",
    "def rf_feat_importance(m, df):\n",
    "    return pd.DataFrame({'cols':df.columns, 'imp':m.feature_importances_}\n",
    "                       ).sort_values('imp', ascending=False)"
   ]
  },
  {
   "cell_type": "markdown",
   "metadata": {},
   "source": [
    "## The data"
   ]
  },
  {
   "cell_type": "markdown",
   "metadata": {},
   "source": [
    "### Look at the data"
   ]
  },
  {
   "cell_type": "markdown",
   "metadata": {},
   "source": [
    "This dataset represents the evolution of US bonds interest rates with different maturities. The dataset contains timeseries for\n",
    "- bonds interest rates: GT2 Govt, GT5 Govt, GT10 Govt, Effective Federal Funds Rate;\n",
    "- indices: LUATTRUU, TYVIX;\n",
    "- precomputed features: Slope 10-2, Slope 5-2, Slope 10-5, Curvature 10-5-2;\n",
    "- the target variable: Rising rates.\n",
    "\n",
    "\n",
    "The key fields are:\n",
    "\n",
    "- Dates: date of the data point in format DD/MM/YYYY\n",
    "- GT2 Govt: bonds interest rate with maturity 2 years\n",
    "- GT5 Govt: bonds interest rate with maturity 5 years\n",
    "- GT10 Govt: bonds interest rate with maturity 10 years\n",
    "- LUATTRUU Index: bond index (see https://www.bloomberg.com/quote/LUATTRUU:IND)\n",
    "- TYVIX Index: Treasury Note Volatility Index (see http://www.cboe.com/products/vix-index-volatility/volatility-on-interest-rates/cboe-cbot-10-year-u-s-treasury-note-volatility-index-tyvix)\n",
    "- Slope 10-2: difference between GT10 Govt and GT2 Govt\n",
    "- Slope 5-2: difference between GT5 Govt and GT2 Govt\n",
    "- Slope 10-5: difference between GT10 Govt and GT5 Govt\n",
    "- Curvature 10-5-2: curvature of the yield curve (see https://www.investopedia.com/terms/y/yieldcurve.asp)\n",
    "- Effective Federal Funds Rate: interbank interest rate for overnight loans\n",
    "- Rising rates: binary flag that indicates whether the interest rates are rising \n",
    "\n"
   ]
  },
  {
   "cell_type": "markdown",
   "metadata": {},
   "source": [
    "Now it's **important to look at the data** to understand the format and what type of values it holds, etc. "
   ]
  },
  {
   "cell_type": "code",
   "execution_count": 6,
   "metadata": {},
   "outputs": [],
   "source": [
    "df_raw = pd.read_excel(f'{PATH}20190325 - data science exercise.xlsx', parse_dates=[\"Dates\"])\n",
    "df_raw['Rising rates'].fillna(0, inplace=True)"
   ]
  },
  {
   "cell_type": "code",
   "execution_count": 7,
   "metadata": {},
   "outputs": [
    {
     "name": "stdout",
     "output_type": "stream",
     "text": [
      "Positive examples = 7650\n",
      "Negative examples = 9216\n",
      "Proportion of positive to negative examples = 83.01%\n"
     ]
    },
    {
     "data": {
      "image/png": "[encoded data removed]",
      "text/plain": [
       "<Figure size 576x432 with 1 Axes>"
      ]
     },
     "metadata": {},
     "output_type": "display_data"
    }
   ],
   "source": [
    "# Get number of positve and negative examples\n",
    "pos = df_raw[df_raw[\"Rising rates\"] == 1].shape[0]\n",
    "neg = df_raw[df_raw[\"Rising rates\"] == 0].shape[0]\n",
    "print(f\"Positive examples = {pos}\")\n",
    "print(f\"Negative examples = {neg}\")\n",
    "print(f\"Proportion of positive to negative examples = {(pos / neg) * 100:.2f}%\")\n",
    "plt.figure(figsize=(8, 6))\n",
    "sns.countplot(df_raw[\"Rising rates\"])\n",
    "plt.xticks((0, 1), [\"Not increase\", \"Increase\"])\n",
    "plt.xlabel(\"\")\n",
    "plt.ylabel(\"Count\")\n",
    "plt.title(\"Class counts\", y=1, fontdict={\"fontsize\": 20});"
   ]
  },
  {
   "cell_type": "code",
   "execution_count": 8,
   "metadata": {},
   "outputs": [
    {
     "data": {
      "text/html": [
       "<div>\n",
       "<style scoped>\n",
       "    .dataframe tbody tr th:only-of-type {\n",
       "        vertical-align: middle;\n",
       "    }\n",
       "\n",
       "    .dataframe tbody tr th {\n",
       "        vertical-align: top;\n",
       "    }\n",
       "\n",
       "    .dataframe thead th {\n",
       "        text-align: right;\n",
       "    }\n",
       "</style>\n",
       "<table border=\"1\" class=\"dataframe\">\n",
       "  <thead>\n",
       "    <tr style=\"text-align: right;\">\n",
       "      <th></th>\n",
       "      <th>16861</th>\n",
       "      <th>16862</th>\n",
       "      <th>16863</th>\n",
       "      <th>16864</th>\n",
       "      <th>16865</th>\n",
       "    </tr>\n",
       "  </thead>\n",
       "  <tbody>\n",
       "    <tr>\n",
       "      <th>Dates</th>\n",
       "      <td>2019-02-15 00:00:00</td>\n",
       "      <td>2019-02-18 00:00:00</td>\n",
       "      <td>2019-02-19 00:00:00</td>\n",
       "      <td>2019-02-20 00:00:00</td>\n",
       "      <td>2019-02-21 00:00:00</td>\n",
       "    </tr>\n",
       "    <tr>\n",
       "      <th>GT2 Govt</th>\n",
       "      <td>2.517</td>\n",
       "      <td>2.517</td>\n",
       "      <td>2.489</td>\n",
       "      <td>2.499</td>\n",
       "      <td>2.513</td>\n",
       "    </tr>\n",
       "    <tr>\n",
       "      <th>GT5 Govt</th>\n",
       "      <td>2.494</td>\n",
       "      <td>2.494</td>\n",
       "      <td>2.458</td>\n",
       "      <td>2.469</td>\n",
       "      <td>2.485</td>\n",
       "    </tr>\n",
       "    <tr>\n",
       "      <th>GT10 Govt</th>\n",
       "      <td>2.664</td>\n",
       "      <td>2.664</td>\n",
       "      <td>2.635</td>\n",
       "      <td>2.646</td>\n",
       "      <td>2.662</td>\n",
       "    </tr>\n",
       "    <tr>\n",
       "      <th>LUATTRUU Index</th>\n",
       "      <td>2227.4</td>\n",
       "      <td>2227.4</td>\n",
       "      <td>2230.15</td>\n",
       "      <td>2229.3</td>\n",
       "      <td>2229.3</td>\n",
       "    </tr>\n",
       "    <tr>\n",
       "      <th>TYVIX Index</th>\n",
       "      <td>3.42</td>\n",
       "      <td>3.42</td>\n",
       "      <td>3.64</td>\n",
       "      <td>3.47</td>\n",
       "      <td>3.47</td>\n",
       "    </tr>\n",
       "    <tr>\n",
       "      <th>Slope 10-2</th>\n",
       "      <td>0.018375</td>\n",
       "      <td>0.018375</td>\n",
       "      <td>0.01825</td>\n",
       "      <td>0.018375</td>\n",
       "      <td>0.018625</td>\n",
       "    </tr>\n",
       "    <tr>\n",
       "      <th>Slope 5-2</th>\n",
       "      <td>-0.00766667</td>\n",
       "      <td>-0.00766667</td>\n",
       "      <td>-0.0103333</td>\n",
       "      <td>-0.01</td>\n",
       "      <td>-0.00933333</td>\n",
       "    </tr>\n",
       "    <tr>\n",
       "      <th>Slope 10-5</th>\n",
       "      <td>0.034</td>\n",
       "      <td>0.034</td>\n",
       "      <td>0.0354</td>\n",
       "      <td>0.0354</td>\n",
       "      <td>0.0354</td>\n",
       "    </tr>\n",
       "    <tr>\n",
       "      <th>Curvature 10-5-2</th>\n",
       "      <td>0.00520833</td>\n",
       "      <td>0.00520833</td>\n",
       "      <td>0.00571667</td>\n",
       "      <td>0.005675</td>\n",
       "      <td>0.00559167</td>\n",
       "    </tr>\n",
       "    <tr>\n",
       "      <th>Effective Federal Funds Rate</th>\n",
       "      <td>2.4</td>\n",
       "      <td>2.4</td>\n",
       "      <td>2.4</td>\n",
       "      <td>2.4</td>\n",
       "      <td>2.4</td>\n",
       "    </tr>\n",
       "    <tr>\n",
       "      <th>Rising rates</th>\n",
       "      <td>1</td>\n",
       "      <td>1</td>\n",
       "      <td>1</td>\n",
       "      <td>1</td>\n",
       "      <td>1</td>\n",
       "    </tr>\n",
       "  </tbody>\n",
       "</table>\n",
       "</div>"
      ],
      "text/plain": [
       "                                            16861                16862  \\\n",
       "Dates                         2019-02-15 00:00:00  2019-02-18 00:00:00   \n",
       "GT2 Govt                                    2.517                2.517   \n",
       "GT5 Govt                                    2.494                2.494   \n",
       "GT10 Govt                                   2.664                2.664   \n",
       "LUATTRUU Index                             2227.4               2227.4   \n",
       "TYVIX Index                                  3.42                 3.42   \n",
       "Slope 10-2                               0.018375             0.018375   \n",
       "Slope 5-2                             -0.00766667          -0.00766667   \n",
       "Slope 10-5                                  0.034                0.034   \n",
       "Curvature 10-5-2                       0.00520833           0.00520833   \n",
       "Effective Federal Funds Rate                  2.4                  2.4   \n",
       "Rising rates                                    1                    1   \n",
       "\n",
       "                                            16863                16864  \\\n",
       "Dates                         2019-02-19 00:00:00  2019-02-20 00:00:00   \n",
       "GT2 Govt                                    2.489                2.499   \n",
       "GT5 Govt                                    2.458                2.469   \n",
       "GT10 Govt                                   2.635                2.646   \n",
       "LUATTRUU Index                            2230.15               2229.3   \n",
       "TYVIX Index                                  3.64                 3.47   \n",
       "Slope 10-2                                0.01825             0.018375   \n",
       "Slope 5-2                              -0.0103333                -0.01   \n",
       "Slope 10-5                                 0.0354               0.0354   \n",
       "Curvature 10-5-2                       0.00571667             0.005675   \n",
       "Effective Federal Funds Rate                  2.4                  2.4   \n",
       "Rising rates                                    1                    1   \n",
       "\n",
       "                                            16865  \n",
       "Dates                         2019-02-21 00:00:00  \n",
       "GT2 Govt                                    2.513  \n",
       "GT5 Govt                                    2.485  \n",
       "GT10 Govt                                   2.662  \n",
       "LUATTRUU Index                             2229.3  \n",
       "TYVIX Index                                  3.47  \n",
       "Slope 10-2                               0.018625  \n",
       "Slope 5-2                             -0.00933333  \n",
       "Slope 10-5                                 0.0354  \n",
       "Curvature 10-5-2                       0.00559167  \n",
       "Effective Federal Funds Rate                  2.4  \n",
       "Rising rates                                    1  "
      ]
     },
     "metadata": {},
     "output_type": "display_data"
    }
   ],
   "source": [
    "display_all(df_raw.tail().T)"
   ]
  },
  {
   "cell_type": "code",
   "execution_count": 9,
   "metadata": {},
   "outputs": [
    {
     "data": {
      "text/html": [
       "<div>\n",
       "<style scoped>\n",
       "    .dataframe tbody tr th:only-of-type {\n",
       "        vertical-align: middle;\n",
       "    }\n",
       "\n",
       "    .dataframe tbody tr th {\n",
       "        vertical-align: top;\n",
       "    }\n",
       "\n",
       "    .dataframe thead th {\n",
       "        text-align: right;\n",
       "    }\n",
       "</style>\n",
       "<table border=\"1\" class=\"dataframe\">\n",
       "  <thead>\n",
       "    <tr style=\"text-align: right;\">\n",
       "      <th></th>\n",
       "      <th>count</th>\n",
       "      <th>unique</th>\n",
       "      <th>top</th>\n",
       "      <th>freq</th>\n",
       "      <th>first</th>\n",
       "      <th>last</th>\n",
       "      <th>mean</th>\n",
       "      <th>std</th>\n",
       "      <th>min</th>\n",
       "      <th>25%</th>\n",
       "      <th>50%</th>\n",
       "      <th>75%</th>\n",
       "      <th>max</th>\n",
       "    </tr>\n",
       "  </thead>\n",
       "  <tbody>\n",
       "    <tr>\n",
       "      <th>Dates</th>\n",
       "      <td>16866</td>\n",
       "      <td>16866</td>\n",
       "      <td>1967-09-20 00:00:00</td>\n",
       "      <td>1</td>\n",
       "      <td>1954-07-01 00:00:00</td>\n",
       "      <td>2019-02-21 00:00:00</td>\n",
       "      <td>NaN</td>\n",
       "      <td>NaN</td>\n",
       "      <td>NaN</td>\n",
       "      <td>NaN</td>\n",
       "      <td>NaN</td>\n",
       "      <td>NaN</td>\n",
       "      <td>NaN</td>\n",
       "    </tr>\n",
       "    <tr>\n",
       "      <th>GT2 Govt</th>\n",
       "      <td>10974</td>\n",
       "      <td>NaN</td>\n",
       "      <td>NaN</td>\n",
       "      <td>NaN</td>\n",
       "      <td>NaN</td>\n",
       "      <td>NaN</td>\n",
       "      <td>5.31953</td>\n",
       "      <td>3.79335</td>\n",
       "      <td>0.155</td>\n",
       "      <td>1.83</td>\n",
       "      <td>5.181</td>\n",
       "      <td>7.7645</td>\n",
       "      <td>16.959</td>\n",
       "    </tr>\n",
       "    <tr>\n",
       "      <th>GT5 Govt</th>\n",
       "      <td>10974</td>\n",
       "      <td>NaN</td>\n",
       "      <td>NaN</td>\n",
       "      <td>NaN</td>\n",
       "      <td>NaN</td>\n",
       "      <td>NaN</td>\n",
       "      <td>5.82956</td>\n",
       "      <td>3.51447</td>\n",
       "      <td>0.543</td>\n",
       "      <td>2.78525</td>\n",
       "      <td>5.606</td>\n",
       "      <td>8.108</td>\n",
       "      <td>16.274</td>\n",
       "    </tr>\n",
       "    <tr>\n",
       "      <th>GT10 Govt</th>\n",
       "      <td>10974</td>\n",
       "      <td>NaN</td>\n",
       "      <td>NaN</td>\n",
       "      <td>NaN</td>\n",
       "      <td>NaN</td>\n",
       "      <td>NaN</td>\n",
       "      <td>6.26934</td>\n",
       "      <td>3.24172</td>\n",
       "      <td>1.359</td>\n",
       "      <td>3.69325</td>\n",
       "      <td>5.864</td>\n",
       "      <td>8.34175</td>\n",
       "      <td>15.842</td>\n",
       "    </tr>\n",
       "    <tr>\n",
       "      <th>LUATTRUU Index</th>\n",
       "      <td>10974</td>\n",
       "      <td>NaN</td>\n",
       "      <td>NaN</td>\n",
       "      <td>NaN</td>\n",
       "      <td>NaN</td>\n",
       "      <td>NaN</td>\n",
       "      <td>1024.22</td>\n",
       "      <td>703.241</td>\n",
       "      <td>131.65</td>\n",
       "      <td>376.06</td>\n",
       "      <td>905.25</td>\n",
       "      <td>1653.78</td>\n",
       "      <td>2259.66</td>\n",
       "    </tr>\n",
       "    <tr>\n",
       "      <th>TYVIX Index</th>\n",
       "      <td>4211</td>\n",
       "      <td>NaN</td>\n",
       "      <td>NaN</td>\n",
       "      <td>NaN</td>\n",
       "      <td>NaN</td>\n",
       "      <td>NaN</td>\n",
       "      <td>6.281</td>\n",
       "      <td>2.05806</td>\n",
       "      <td>3.16</td>\n",
       "      <td>4.775</td>\n",
       "      <td>5.7</td>\n",
       "      <td>7.56</td>\n",
       "      <td>14.72</td>\n",
       "    </tr>\n",
       "    <tr>\n",
       "      <th>Slope 10-2</th>\n",
       "      <td>10974</td>\n",
       "      <td>NaN</td>\n",
       "      <td>NaN</td>\n",
       "      <td>NaN</td>\n",
       "      <td>NaN</td>\n",
       "      <td>NaN</td>\n",
       "      <td>0.118726</td>\n",
       "      <td>0.11601</td>\n",
       "      <td>-0.302125</td>\n",
       "      <td>0.032625</td>\n",
       "      <td>0.115375</td>\n",
       "      <td>0.203969</td>\n",
       "      <td>0.36375</td>\n",
       "    </tr>\n",
       "    <tr>\n",
       "      <th>Slope 5-2</th>\n",
       "      <td>10974</td>\n",
       "      <td>NaN</td>\n",
       "      <td>NaN</td>\n",
       "      <td>NaN</td>\n",
       "      <td>NaN</td>\n",
       "      <td>NaN</td>\n",
       "      <td>0.170012</td>\n",
       "      <td>0.179829</td>\n",
       "      <td>-0.571667</td>\n",
       "      <td>0.0430833</td>\n",
       "      <td>0.161667</td>\n",
       "      <td>0.301333</td>\n",
       "      <td>0.544</td>\n",
       "    </tr>\n",
       "    <tr>\n",
       "      <th>Slope 10-5</th>\n",
       "      <td>10974</td>\n",
       "      <td>NaN</td>\n",
       "      <td>NaN</td>\n",
       "      <td>NaN</td>\n",
       "      <td>NaN</td>\n",
       "      <td>NaN</td>\n",
       "      <td>0.0879551</td>\n",
       "      <td>0.0853129</td>\n",
       "      <td>-0.1804</td>\n",
       "      <td>0.0232</td>\n",
       "      <td>0.0764</td>\n",
       "      <td>0.14475</td>\n",
       "      <td>0.2984</td>\n",
       "    </tr>\n",
       "    <tr>\n",
       "      <th>Curvature 10-5-2</th>\n",
       "      <td>10974</td>\n",
       "      <td>NaN</td>\n",
       "      <td>NaN</td>\n",
       "      <td>NaN</td>\n",
       "      <td>NaN</td>\n",
       "      <td>NaN</td>\n",
       "      <td>-0.0102571</td>\n",
       "      <td>0.0146458</td>\n",
       "      <td>-0.0600083</td>\n",
       "      <td>-0.0215083</td>\n",
       "      <td>-0.00898333</td>\n",
       "      <td>-0.000841667</td>\n",
       "      <td>0.059325</td>\n",
       "    </tr>\n",
       "    <tr>\n",
       "      <th>Effective Federal Funds Rate</th>\n",
       "      <td>16866</td>\n",
       "      <td>NaN</td>\n",
       "      <td>NaN</td>\n",
       "      <td>NaN</td>\n",
       "      <td>NaN</td>\n",
       "      <td>NaN</td>\n",
       "      <td>4.80899</td>\n",
       "      <td>3.60183</td>\n",
       "      <td>0.07</td>\n",
       "      <td>2.09</td>\n",
       "      <td>4.59</td>\n",
       "      <td>6.54</td>\n",
       "      <td>19.1</td>\n",
       "    </tr>\n",
       "    <tr>\n",
       "      <th>Rising rates</th>\n",
       "      <td>16866</td>\n",
       "      <td>NaN</td>\n",
       "      <td>NaN</td>\n",
       "      <td>NaN</td>\n",
       "      <td>NaN</td>\n",
       "      <td>NaN</td>\n",
       "      <td>0.453575</td>\n",
       "      <td>0.497855</td>\n",
       "      <td>0</td>\n",
       "      <td>0</td>\n",
       "      <td>0</td>\n",
       "      <td>1</td>\n",
       "      <td>1</td>\n",
       "    </tr>\n",
       "  </tbody>\n",
       "</table>\n",
       "</div>"
      ],
      "text/plain": [
       "                              count unique                  top freq  \\\n",
       "Dates                         16866  16866  1967-09-20 00:00:00    1   \n",
       "GT2 Govt                      10974    NaN                  NaN  NaN   \n",
       "GT5 Govt                      10974    NaN                  NaN  NaN   \n",
       "GT10 Govt                     10974    NaN                  NaN  NaN   \n",
       "LUATTRUU Index                10974    NaN                  NaN  NaN   \n",
       "TYVIX Index                    4211    NaN                  NaN  NaN   \n",
       "Slope 10-2                    10974    NaN                  NaN  NaN   \n",
       "Slope 5-2                     10974    NaN                  NaN  NaN   \n",
       "Slope 10-5                    10974    NaN                  NaN  NaN   \n",
       "Curvature 10-5-2              10974    NaN                  NaN  NaN   \n",
       "Effective Federal Funds Rate  16866    NaN                  NaN  NaN   \n",
       "Rising rates                  16866    NaN                  NaN  NaN   \n",
       "\n",
       "                                            first                 last  \\\n",
       "Dates                         1954-07-01 00:00:00  2019-02-21 00:00:00   \n",
       "GT2 Govt                                      NaN                  NaN   \n",
       "GT5 Govt                                      NaN                  NaN   \n",
       "GT10 Govt                                     NaN                  NaN   \n",
       "LUATTRUU Index                                NaN                  NaN   \n",
       "TYVIX Index                                   NaN                  NaN   \n",
       "Slope 10-2                                    NaN                  NaN   \n",
       "Slope 5-2                                     NaN                  NaN   \n",
       "Slope 10-5                                    NaN                  NaN   \n",
       "Curvature 10-5-2                              NaN                  NaN   \n",
       "Effective Federal Funds Rate                  NaN                  NaN   \n",
       "Rising rates                                  NaN                  NaN   \n",
       "\n",
       "                                   mean        std        min        25%  \\\n",
       "Dates                               NaN        NaN        NaN        NaN   \n",
       "GT2 Govt                        5.31953    3.79335      0.155       1.83   \n",
       "GT5 Govt                        5.82956    3.51447      0.543    2.78525   \n",
       "GT10 Govt                       6.26934    3.24172      1.359    3.69325   \n",
       "LUATTRUU Index                  1024.22    703.241     131.65     376.06   \n",
       "TYVIX Index                       6.281    2.05806       3.16      4.775   \n",
       "Slope 10-2                     0.118726    0.11601  -0.302125   0.032625   \n",
       "Slope 5-2                      0.170012   0.179829  -0.571667  0.0430833   \n",
       "Slope 10-5                    0.0879551  0.0853129    -0.1804     0.0232   \n",
       "Curvature 10-5-2             -0.0102571  0.0146458 -0.0600083 -0.0215083   \n",
       "Effective Federal Funds Rate    4.80899    3.60183       0.07       2.09   \n",
       "Rising rates                   0.453575   0.497855          0          0   \n",
       "\n",
       "                                     50%          75%       max  \n",
       "Dates                                NaN          NaN       NaN  \n",
       "GT2 Govt                           5.181       7.7645    16.959  \n",
       "GT5 Govt                           5.606        8.108    16.274  \n",
       "GT10 Govt                          5.864      8.34175    15.842  \n",
       "LUATTRUU Index                    905.25      1653.78   2259.66  \n",
       "TYVIX Index                          5.7         7.56     14.72  \n",
       "Slope 10-2                      0.115375     0.203969   0.36375  \n",
       "Slope 5-2                       0.161667     0.301333     0.544  \n",
       "Slope 10-5                        0.0764      0.14475    0.2984  \n",
       "Curvature 10-5-2             -0.00898333 -0.000841667  0.059325  \n",
       "Effective Federal Funds Rate        4.59         6.54      19.1  \n",
       "Rising rates                           0            1         1  "
      ]
     },
     "metadata": {},
     "output_type": "display_data"
    }
   ],
   "source": [
    "display_all(df_raw.describe(include='all').T)"
   ]
  },
  {
   "cell_type": "code",
   "execution_count": 10,
   "metadata": {},
   "outputs": [
    {
     "data": {
      "text/plain": [
       "Curvature 10-5-2                0.349342\n",
       "Dates                           0.000000\n",
       "Effective Federal Funds Rate    0.000000\n",
       "GT10 Govt                       0.349342\n",
       "GT2 Govt                        0.349342\n",
       "GT5 Govt                        0.349342\n",
       "LUATTRUU Index                  0.349342\n",
       "Rising rates                    0.000000\n",
       "Slope 10-2                      0.349342\n",
       "Slope 10-5                      0.349342\n",
       "Slope 5-2                       0.349342\n",
       "TYVIX Index                     0.750326\n",
       "dtype: float64"
      ]
     },
     "metadata": {},
     "output_type": "display_data"
    }
   ],
   "source": [
    "display_all(df_raw.isnull().sum().sort_index()/len(df_raw))"
   ]
  },
  {
   "cell_type": "code",
   "execution_count": 11,
   "metadata": {},
   "outputs": [
    {
     "data": {
      "image/png": "[encoded data removed]",
      "text/plain": [
       "<Figure size 864x648 with 9 Axes>"
      ]
     },
     "metadata": {},
     "output_type": "display_data"
    }
   ],
   "source": [
    "# specify variables to plot\n",
    "groups = [1, 2, 3, 5, 6, 7, 8, 9, 10]\n",
    "i = 1\n",
    "# plot each variable\n",
    "plt.figure()\n",
    "for group in groups:\n",
    "    plt.subplot(len(groups), 1, i)\n",
    "    plt.plot(df_raw.iloc[:, group])\n",
    "    plt.title(df_raw.columns[group], y=0.5, loc='right')\n",
    "    i += 1\n",
    "plt.show()"
   ]
  },
  {
   "cell_type": "markdown",
   "metadata": {},
   "source": [
    "### Initial processing"
   ]
  },
  {
   "cell_type": "markdown",
   "metadata": {},
   "source": [
    "This dataset contains only **continuous** variables.\n",
    "It is said that \"You should always consider this feature extraction step when working with date-time. Without expanding your date-time into these additional fields, you can't capture any trend/cyclical behavior as a function of time at any of these granularities.\"\n",
    "\n",
    "The add_datepart method extracts particular date fields from a complete datetime for the purpose of constructing categoricals. Followings are some of the information we can extract from date — year, month, quarter, day of month, day of week, week of year, is it a holiday? weekend? etc."
   ]
  },
  {
   "cell_type": "code",
   "execution_count": 12,
   "metadata": {},
   "outputs": [
    {
     "data": {
      "text/plain": [
       "0    1954\n",
       "1    1954\n",
       "2    1954\n",
       "3    1954\n",
       "4    1954\n",
       "Name: DatesYear, dtype: int64"
      ]
     },
     "execution_count": 12,
     "metadata": {},
     "output_type": "execute_result"
    }
   ],
   "source": [
    "add_datepart(df_raw, 'Dates')\n",
    "df_raw.DatesYear.head()"
   ]
  },
  {
   "cell_type": "markdown",
   "metadata": {},
   "source": [
    "For numeric data type, we check if there is null column. If so, the proc_df will create a new column with a name with _na appended at the end and set it to 1 if it is missing; 0 otherwise (boolean). It will then replace the missing value with a median."
   ]
  },
  {
   "cell_type": "code",
   "execution_count": 13,
   "metadata": {},
   "outputs": [],
   "source": [
    "df, y, nas = proc_df(df_raw, 'Rising rates')"
   ]
  },
  {
   "cell_type": "markdown",
   "metadata": {},
   "source": [
    "We store the file so that we can accessed efficiently later on."
   ]
  },
  {
   "cell_type": "code",
   "execution_count": 14,
   "metadata": {},
   "outputs": [],
   "source": [
    "os.makedirs('tmp', exist_ok=True)\n",
    "df.to_feather('tmp/exercise-raw')"
   ]
  },
  {
   "cell_type": "markdown",
   "metadata": {},
   "source": [
    "Since now on we can simply read it."
   ]
  },
  {
   "cell_type": "code",
   "execution_count": 15,
   "metadata": {},
   "outputs": [],
   "source": [
    "df_raw = pd.read_feather('tmp/exercise-raw')"
   ]
  },
  {
   "cell_type": "markdown",
   "metadata": {},
   "source": [
    "## Define the problem"
   ]
  },
  {
   "cell_type": "markdown",
   "metadata": {},
   "source": [
    "- Inputs vs. Outputs: I will build a model to predict rising rates for one year time step given the historical data of the evolution of US bonds interest rates with different maturities\n",
    "- Regression vs. Classification: this is binary classification \n",
    "- Univariate vs. Multivariate: there are multiple input variables, so this is multivariate time series problem\n",
    "- Single-step vs. Multi-step: I will build a multi-step forecast model for 365 days time step\n",
    "- Static vs. Dynamic: The model is static which is fit once and used to make predictions for the next 365 days."
   ]
  },
  {
   "cell_type": "markdown",
   "metadata": {},
   "source": [
    "## Design train and validation set"
   ]
  },
  {
   "cell_type": "markdown",
   "metadata": {},
   "source": [
    "We need to create a validation set that has the time series properties. This means the validation set need to be of separate time period as well. \n",
    "Here the validation set will be data from 2018."
   ]
  },
  {
   "cell_type": "code",
   "execution_count": 16,
   "metadata": {},
   "outputs": [
    {
     "data": {
      "text/plain": [
       "(299, 32)"
      ]
     },
     "execution_count": 16,
     "metadata": {},
     "output_type": "execute_result"
    }
   ],
   "source": [
    "df[df.DatesYear>=2018].shape"
   ]
  },
  {
   "cell_type": "code",
   "execution_count": 17,
   "metadata": {},
   "outputs": [
    {
     "data": {
      "text/plain": [
       "((16567, 32), (16567,), (299, 32))"
      ]
     },
     "execution_count": 17,
     "metadata": {},
     "output_type": "execute_result"
    }
   ],
   "source": [
    "n_valid = 299 \n",
    "n_trn = len(df)-n_valid\n",
    "raw_train, raw_valid = split_vals(df_raw, n_trn)\n",
    "X_train, X_valid = split_vals(df, n_trn)\n",
    "y_train, y_valid = split_vals(y, n_trn)\n",
    "\n",
    "X_train.shape, y_train.shape, X_valid.shape"
   ]
  },
  {
   "cell_type": "markdown",
   "metadata": {},
   "source": [
    "### Add lagged features (the outcomes of the past 20 days)"
   ]
  },
  {
   "cell_type": "code",
   "execution_count": 18,
   "metadata": {},
   "outputs": [],
   "source": [
    "def add_lagged_features(df, y, n_in=1, dropnan=True):\n",
    "    \"\"\"\n",
    "    Frame a time series as a supervised learning dataset.\n",
    "    Arguments:\n",
    "    df: time series data\n",
    "    y: outcome\n",
    "    n_in: Number of lag observations as input (X).    \n",
    "    dropnan: Boolean whether or not to drop rows with NaN values.\n",
    "    Returns:\n",
    "        Pandas DataFrame of series framed .\n",
    "    \"\"\"  \n",
    "    df_agg = df.copy()\n",
    "    y_agg = y.copy()\n",
    "    # input sequence (t-n, ... t-1)\n",
    "    for i in range(n_in, 0, -1):\n",
    "        new_column = f'var(t-{i})'        \n",
    "        df_agg[new_column] = np.array(pd.Series(y).shift(i))       \n",
    "    \n",
    "    # drop rows with NaN values\n",
    "    if dropnan:\n",
    "        df_agg.dropna(inplace=True)\n",
    "        y_agg = y[n_in:]\n",
    "    return [df_agg, y_agg]\n",
    "\n",
    "X_train_lagged, y_train_lagged = add_lagged_features(X_train, y_train, 20)"
   ]
  },
  {
   "cell_type": "markdown",
   "metadata": {},
   "source": [
    "## Feature Importance with Random Forests"
   ]
  },
  {
   "cell_type": "code",
   "execution_count": 19,
   "metadata": {},
   "outputs": [
    {
     "data": {
      "text/plain": [
       "RandomForestClassifier(bootstrap=True, class_weight=None, criterion='gini',\n",
       "            max_depth=None, max_features='auto', max_leaf_nodes=None,\n",
       "            min_impurity_decrease=0.0, min_impurity_split=None,\n",
       "            min_samples_leaf=1, min_samples_split=2,\n",
       "            min_weight_fraction_leaf=0.0, n_estimators=20, n_jobs=-1,\n",
       "            oob_score=False, random_state=None, verbose=0,\n",
       "            warm_start=False)"
      ]
     },
     "execution_count": 19,
     "metadata": {},
     "output_type": "execute_result"
    }
   ],
   "source": [
    "m = RandomForestClassifier(n_estimators=20, n_jobs=-1)\n",
    "m.fit(X_train, y_train)"
   ]
  },
  {
   "cell_type": "code",
   "execution_count": 20,
   "metadata": {},
   "outputs": [
    {
     "data": {
      "text/html": [
       "<div>\n",
       "<style scoped>\n",
       "    .dataframe tbody tr th:only-of-type {\n",
       "        vertical-align: middle;\n",
       "    }\n",
       "\n",
       "    .dataframe tbody tr th {\n",
       "        vertical-align: top;\n",
       "    }\n",
       "\n",
       "    .dataframe thead th {\n",
       "        text-align: right;\n",
       "    }\n",
       "</style>\n",
       "<table border=\"1\" class=\"dataframe\">\n",
       "  <thead>\n",
       "    <tr style=\"text-align: right;\">\n",
       "      <th></th>\n",
       "      <th>cols</th>\n",
       "      <th>imp</th>\n",
       "    </tr>\n",
       "  </thead>\n",
       "  <tbody>\n",
       "    <tr>\n",
       "      <th>22</th>\n",
       "      <td>DatesElapsed</td>\n",
       "      <td>0.266724</td>\n",
       "    </tr>\n",
       "    <tr>\n",
       "      <th>10</th>\n",
       "      <td>DatesYear</td>\n",
       "      <td>0.184149</td>\n",
       "    </tr>\n",
       "    <tr>\n",
       "      <th>9</th>\n",
       "      <td>Effective Federal Funds Rate</td>\n",
       "      <td>0.132242</td>\n",
       "    </tr>\n",
       "    <tr>\n",
       "      <th>3</th>\n",
       "      <td>LUATTRUU Index</td>\n",
       "      <td>0.095023</td>\n",
       "    </tr>\n",
       "    <tr>\n",
       "      <th>5</th>\n",
       "      <td>Slope 10-2</td>\n",
       "      <td>0.040290</td>\n",
       "    </tr>\n",
       "    <tr>\n",
       "      <th>7</th>\n",
       "      <td>Slope 10-5</td>\n",
       "      <td>0.039766</td>\n",
       "    </tr>\n",
       "    <tr>\n",
       "      <th>0</th>\n",
       "      <td>GT2 Govt</td>\n",
       "      <td>0.038638</td>\n",
       "    </tr>\n",
       "    <tr>\n",
       "      <th>2</th>\n",
       "      <td>GT10 Govt</td>\n",
       "      <td>0.037307</td>\n",
       "    </tr>\n",
       "    <tr>\n",
       "      <th>6</th>\n",
       "      <td>Slope 5-2</td>\n",
       "      <td>0.026491</td>\n",
       "    </tr>\n",
       "    <tr>\n",
       "      <th>15</th>\n",
       "      <td>DatesDayofyear</td>\n",
       "      <td>0.022259</td>\n",
       "    </tr>\n",
       "  </tbody>\n",
       "</table>\n",
       "</div>"
      ],
      "text/plain": [
       "                            cols       imp\n",
       "22                  DatesElapsed  0.266724\n",
       "10                     DatesYear  0.184149\n",
       "9   Effective Federal Funds Rate  0.132242\n",
       "3                 LUATTRUU Index  0.095023\n",
       "5                     Slope 10-2  0.040290\n",
       "7                     Slope 10-5  0.039766\n",
       "0                       GT2 Govt  0.038638\n",
       "2                      GT10 Govt  0.037307\n",
       "6                      Slope 5-2  0.026491\n",
       "15                DatesDayofyear  0.022259"
      ]
     },
     "execution_count": 20,
     "metadata": {},
     "output_type": "execute_result"
    }
   ],
   "source": [
    "fi = rf_feat_importance(m, X_train); fi[:10]"
   ]
  },
  {
   "cell_type": "code",
   "execution_count": 21,
   "metadata": {},
   "outputs": [
    {
     "data": {
      "image/png": "[encoded data removed]",
      "text/plain": [
       "<Figure size 648x432 with 1 Axes>"
      ]
     },
     "metadata": {},
     "output_type": "display_data"
    }
   ],
   "source": [
    "fi.plot('cols', 'imp', figsize=(9,6), legend=False);"
   ]
  },
  {
   "cell_type": "code",
   "execution_count": 22,
   "metadata": {},
   "outputs": [
    {
     "data": {
      "image/png": "[encoded data removed]",
      "text/plain": [
       "<Figure size 648x432 with 1 Axes>"
      ]
     },
     "metadata": {},
     "output_type": "display_data"
    }
   ],
   "source": [
    "plot_fi(fi[:20]);"
   ]
  },
  {
   "cell_type": "markdown",
   "metadata": {},
   "source": [
    "## Cross Validation on Time Series"
   ]
  },
  {
   "cell_type": "markdown",
   "metadata": {},
   "source": [
    "When working with time series data, traditional cross-validation (like k-fold) does not work since there are temporal dependencies.\n",
    "Here I use Nested Cross-Validation. Specifically, the train data will be slplited into 10 folds. \n",
    "- Train the model on fold 1 then forecasting the interest rate rising for the next 365 days. \n",
    "- Train the model on fold 1 + 2 then forecasting the interest rate rising for the next 365 days. \n",
    "- Train the model on fold 1 + 2 + 3 then forecasting the interest rate rising for the next 365 days \n",
    "- ...\n",
    "\n",
    "Then the accuracy for each test will be captured and the accuracy mean is used to decide which model is better than the other. The *performClassification* function from Francesco's blog implement the idea.\n",
    "Models for testing include Random Forest, Gradient Boosing and Multilayer Perceptron Neural Networks."
   ]
  },
  {
   "cell_type": "code",
   "execution_count": 23,
   "metadata": {},
   "outputs": [],
   "source": [
    "def create_mlp(n_features):\n",
    "    model = Sequential()\n",
    "    model.add(Dense(64, input_dim=n_features, kernel_initializer='normal', activation='relu'))\n",
    "    model.add(Dense(32, kernel_initializer='normal', activation='relu'))\n",
    "    model.add(Dense(16, kernel_initializer='normal', activation='relu'))\n",
    "    #model.add(Dense(8, kernel_initializer='normal', activation='relu'))\n",
    "    model.add(Dense(1, kernel_initializer='normal', activation='sigmoid'))\n",
    "    \n",
    "    # Compile model\n",
    "    model.compile(loss='binary_crossentropy', optimizer='adam', metrics=['accuracy'])\n",
    "    return model\n",
    "\n",
    "def performClassification(X_trainFolds, y_trainFolds, X_testFolds, y_testFolds, n_features, algorithm, parameters):\n",
    "    if algorithm == \"MLP\":\n",
    "        m = create_mlp(n_features)\n",
    "        m.fit(X_trainFolds, y_trainFolds)\n",
    "        y_pred = m.predict_classes(X_testFolds)\n",
    "    elif algorithm == \"GB\":\n",
    "        m = GradientBoostingClassifier()\n",
    "        m.fit(X_trainFolds, y_trainFolds)\n",
    "        y_pred = m.predict(X_testFolds)\n",
    "    else:\n",
    "        m = RandomForestClassifier(n_estimators=20, n_jobs=-1)\n",
    "        #m = GradientBoostingClassifier()\n",
    "        m.fit(X_trainFolds, y_trainFolds)\n",
    "        y_pred = m.predict(X_testFolds)    \n",
    "        \n",
    "    unique, counts = np.unique(y_pred, return_counts=True)\n",
    "    print(dict(zip(unique, counts)))\n",
    "\n",
    "    return sklearn.metrics.accuracy_score(y_testFolds, y_pred)\n",
    "\n",
    "def performTimeSeriesCV(X_train, y_train, n_features, number_folds, algorithm, parameters):\n",
    "    \"\"\"\n",
    "    Given X_train and y_train (the test set is excluded from the Cross Validation),\n",
    "    number of folds, the ML algorithm to implement and the parameters to test,\n",
    "    the function acts based on the following logic: it splits X_train and y_train in a\n",
    "    number of folds equal to number_folds. Then train on one fold and tests accuracy\n",
    "    on the consecutive as follows:\n",
    "    - Train on fold 1, test on 2\n",
    "    - Train on fold 1-2, test on 3\n",
    "    - Train on fold 1-2-3, test on 4\n",
    "    ....\n",
    "    Returns mean of test accuracies.\n",
    "    \"\"\"\n",
    "\n",
    "    print (f'Parameters --------------------------------> {parameters}')\n",
    "    print (f'Size train set: {X_train.shape}')\n",
    "    \n",
    "    # k is the size of each fold. It is computed dividing the number of \n",
    "    # rows in X_train by number_folds. This number is floored and coerced to int\n",
    "    k = int(np.floor(float(X_train.shape[0]) / number_folds))\n",
    "    print (f'Size of each fold: {k}')\n",
    "    \n",
    "    # initialize to zero the accuracies array. It is important to stress that\n",
    "    # in the CV of Time Series if I have n folds I test n-1 folds as the first\n",
    "    # one is always needed to train\n",
    "    accuracies = np.zeros(number_folds-1)\n",
    "\n",
    "    # loop from the first 2 folds to the total number of folds    \n",
    "    for i in range(2, number_folds + 1):\n",
    "        print ('')\n",
    "        \n",
    "        # the split is the percentage at which to split the folds into train\n",
    "        # and test. For example when i = 2 we are taking the first 2 folds out \n",
    "        # of the total available. In this specific case we have to split the\n",
    "        # two of them in half (train on the first, test on the second), \n",
    "        # so split = 1/2 = 0.5 = 50%. When i = 3 we are taking the first 3 folds \n",
    "        # out of the total available, meaning that we have to split the three of them\n",
    "        # in two at split = 2/3 = 0.66 = 66% (train on the first 2 and test on the\n",
    "        # following)\n",
    "        split = float(i-1)/i\n",
    "        \n",
    "        # example with i = 4 (first 4 folds):\n",
    "        #      Splitting the first       4        chunks at          3      /        4\n",
    "        print ('Splitting the first ' + str(i) + ' chunks at ' + str(i-1) + '/' + str(i)) \n",
    "        \n",
    "        # as we loop over the folds X and y are updated and increase in size.\n",
    "        # This is the data that is going to be split and it increases in size \n",
    "        # in the loop as we account for more folds. If k = 300, with i starting from 2\n",
    "        # the result is the following in the loop\n",
    "        # i = 2\n",
    "        # X = X_train[:(600)]\n",
    "        # y = y_train[:(600)]\n",
    "        #\n",
    "        # i = 3\n",
    "        # X = X_train[:(900)]\n",
    "        # y = y_train[:(900)]\n",
    "        # .... \n",
    "        X = X_train[:(k*i)]\n",
    "        y = y_train[:(k*i)]\n",
    "        print (f'Size of train + test: {X.shape}') # the size of the dataframe is going to be k*i\n",
    "\n",
    "        # X and y contain both the folds to train and the fold to test.\n",
    "        # index is the integer telling us where to split, according to the\n",
    "        # split percentage we have set above\n",
    "        index = int(np.floor(X.shape[0] * split))\n",
    "        \n",
    "        # folds used to train the model        \n",
    "        X_trainFolds = X[:index]        \n",
    "        y_trainFolds = y[:index]\n",
    "        \n",
    "        # fold used to test the model\n",
    "        X_testFolds = X[(index + 1):(index + 366)]\n",
    "        y_testFolds = y[(index + 1):(index + 366)]\n",
    "        #print(y_testFolds)\n",
    "        \n",
    "        # i starts from 2 so the zeroth element in accuracies array is i-2. performClassification() is a function which takes care of a classification problem. This is only an example and you can replace this function with whatever ML approach you need.\n",
    "        accuracies[i-2] = performClassification(X_trainFolds, y_trainFolds, X_testFolds, y_testFolds, n_features, algorithm, parameters)\n",
    "        #accuracies[i-2] = performClassification(X_trainFolds, y_trainFolds, X_testFolds, y_testFolds, algorithm, parameters)\n",
    "        \n",
    "        # example with i = 4:\n",
    "        #      Accuracy on fold         4     :    0.85423\n",
    "        print ('Accuracy on fold ' + str(i) + ': ' + str(accuracies[i-2]))\n",
    "    \n",
    "    # the function returns the mean of the accuracy on the n-1 folds    \n",
    "    return accuracies.mean()"
   ]
  },
  {
   "cell_type": "markdown",
   "metadata": {},
   "source": [
    "### Do cross validation on X_train and y-train"
   ]
  },
  {
   "cell_type": "code",
   "execution_count": 24,
   "metadata": {},
   "outputs": [
    {
     "name": "stdout",
     "output_type": "stream",
     "text": [
      "Parameters --------------------------------> []\n",
      "Size train set: (16567, 32)\n",
      "Size of each fold: 1656\n",
      "\n",
      "Splitting the first 2 chunks at 1/2\n",
      "Size of train + test: (3312, 32)\n",
      "{0.0: 365}\n",
      "Accuracy on fold 2: 0.5232876712328767\n",
      "\n",
      "Splitting the first 3 chunks at 2/3\n",
      "Size of train + test: (4968, 32)\n",
      "{0.0: 365}\n",
      "Accuracy on fold 3: 0.4547945205479452\n",
      "\n",
      "Splitting the first 4 chunks at 3/4\n",
      "Size of train + test: (6624, 32)\n",
      "{1.0: 365}\n",
      "Accuracy on fold 4: 0.6273972602739726\n",
      "\n",
      "Splitting the first 5 chunks at 4/5\n",
      "Size of train + test: (8280, 32)\n",
      "{1.0: 365}\n",
      "Accuracy on fold 5: 0.7972602739726027\n",
      "\n",
      "Splitting the first 6 chunks at 5/6\n",
      "Size of train + test: (9936, 32)\n",
      "{0.0: 365}\n",
      "Accuracy on fold 6: 0.4273972602739726\n",
      "\n",
      "Splitting the first 7 chunks at 6/7\n",
      "Size of train + test: (11592, 32)\n",
      "{0.0: 365}\n",
      "Accuracy on fold 7: 1.0\n",
      "\n",
      "Splitting the first 8 chunks at 7/8\n",
      "Size of train + test: (13248, 32)\n",
      "{0.0: 236, 1.0: 129}\n",
      "Accuracy on fold 8: 0.35342465753424657\n",
      "\n",
      "Splitting the first 9 chunks at 8/9\n",
      "Size of train + test: (14904, 32)\n",
      "{1.0: 365}\n",
      "Accuracy on fold 9: 0.8684931506849315\n",
      "\n",
      "Splitting the first 10 chunks at 9/10\n",
      "Size of train + test: (16560, 32)\n",
      "{0.0: 365}\n",
      "Accuracy on fold 10: 1.0\n"
     ]
    },
    {
     "data": {
      "text/plain": [
       "0.6724505327245054"
      ]
     },
     "execution_count": 24,
     "metadata": {},
     "output_type": "execute_result"
    }
   ],
   "source": [
    "performTimeSeriesCV(X_train, y_train, 32, 10, 'RF', [])"
   ]
  },
  {
   "cell_type": "markdown",
   "metadata": {},
   "source": [
    "### Do cross validation on X_train_lagged and y-train_lagged (after adding lagged features)"
   ]
  },
  {
   "cell_type": "code",
   "execution_count": 25,
   "metadata": {},
   "outputs": [
    {
     "name": "stdout",
     "output_type": "stream",
     "text": [
      "Parameters --------------------------------> []\n",
      "Size train set: (16547, 52)\n",
      "Size of each fold: 1654\n",
      "\n",
      "Splitting the first 2 chunks at 1/2\n",
      "Size of train + test: (3308, 52)\n",
      "{0.0: 175, 1.0: 190}\n",
      "Accuracy on fold 2: 0.9945205479452055\n",
      "\n",
      "Splitting the first 3 chunks at 2/3\n",
      "Size of train + test: (4962, 52)\n",
      "{0.0: 151, 1.0: 214}\n",
      "Accuracy on fold 3: 0.9972602739726028\n",
      "\n",
      "Splitting the first 4 chunks at 3/4\n",
      "Size of train + test: (6616, 52)\n",
      "{0.0: 47, 1.0: 318}\n",
      "Accuracy on fold 4: 0.7178082191780822\n",
      "\n",
      "Splitting the first 5 chunks at 4/5\n",
      "Size of train + test: (8270, 52)\n",
      "{1.0: 365}\n",
      "Accuracy on fold 5: 0.7643835616438356\n",
      "\n",
      "Splitting the first 6 chunks at 5/6\n",
      "Size of train + test: (9924, 52)\n",
      "{0.0: 148, 1.0: 217}\n",
      "Accuracy on fold 6: 0.9945205479452055\n",
      "\n",
      "Splitting the first 7 chunks at 6/7\n",
      "Size of train + test: (11578, 52)\n",
      "{0.0: 365}\n",
      "Accuracy on fold 7: 1.0\n",
      "\n",
      "Splitting the first 8 chunks at 7/8\n",
      "Size of train + test: (13232, 52)\n",
      "{1.0: 365}\n",
      "Accuracy on fold 8: 1.0\n",
      "\n",
      "Splitting the first 9 chunks at 8/9\n",
      "Size of train + test: (14886, 52)\n",
      "{0.0: 51, 1.0: 314}\n",
      "Accuracy on fold 9: 0.9972602739726028\n",
      "\n",
      "Splitting the first 10 chunks at 9/10\n",
      "Size of train + test: (16540, 52)\n",
      "{0.0: 365}\n",
      "Accuracy on fold 10: 1.0\n"
     ]
    },
    {
     "data": {
      "text/plain": [
       "0.9406392694063928"
      ]
     },
     "execution_count": 25,
     "metadata": {},
     "output_type": "execute_result"
    }
   ],
   "source": [
    "performTimeSeriesCV(X_train_lagged, y_train_lagged, 52, 10, 'RF', [])"
   ]
  },
  {
   "cell_type": "markdown",
   "metadata": {},
   "source": [
    "So the model's accuracy improve sifinicantly by adding lagged fetures to the data (**it is now capable of learning trend from the data**). Now let's see how it work on the validation set"
   ]
  },
  {
   "cell_type": "code",
   "execution_count": 26,
   "metadata": {},
   "outputs": [
    {
     "data": {
      "text/plain": [
       "1.0"
      ]
     },
     "execution_count": 26,
     "metadata": {},
     "output_type": "execute_result"
    }
   ],
   "source": [
    "m = RandomForestClassifier(n_estimators=20, n_jobs=-1)\n",
    "m.fit(X_train_lagged, y_train_lagged)\n",
    "X_valid_lagged, y_valid_lagged = add_lagged_features(X_valid, y_valid, 20)\n",
    "y_pred = m.predict(X_valid_lagged)\n",
    "sklearn.metrics.accuracy_score(y_valid_lagged, y_pred)"
   ]
  },
  {
   "cell_type": "markdown",
   "metadata": {},
   "source": [
    "### Let's do it with GB"
   ]
  },
  {
   "cell_type": "code",
   "execution_count": 28,
   "metadata": {},
   "outputs": [
    {
     "name": "stdout",
     "output_type": "stream",
     "text": [
      "Parameters --------------------------------> []\n",
      "Size train set: (16567, 32)\n",
      "Size of each fold: 1656\n",
      "\n",
      "Splitting the first 2 chunks at 1/2\n",
      "Size of train + test: (3312, 32)\n",
      "{0.0: 365}\n",
      "Accuracy on fold 2: 0.5232876712328767\n",
      "\n",
      "Splitting the first 3 chunks at 2/3\n",
      "Size of train + test: (4968, 32)\n",
      "{0.0: 365}\n",
      "Accuracy on fold 3: 0.4547945205479452\n",
      "\n",
      "Splitting the first 4 chunks at 3/4\n",
      "Size of train + test: (6624, 32)\n",
      "{1.0: 365}\n",
      "Accuracy on fold 4: 0.6273972602739726\n",
      "\n",
      "Splitting the first 5 chunks at 4/5\n",
      "Size of train + test: (8280, 32)\n",
      "{1.0: 365}\n",
      "Accuracy on fold 5: 0.7972602739726027\n",
      "\n",
      "Splitting the first 6 chunks at 5/6\n",
      "Size of train + test: (9936, 32)\n",
      "{0.0: 365}\n",
      "Accuracy on fold 6: 0.4273972602739726\n",
      "\n",
      "Splitting the first 7 chunks at 6/7\n",
      "Size of train + test: (11592, 32)\n",
      "{0.0: 365}\n",
      "Accuracy on fold 7: 1.0\n",
      "\n",
      "Splitting the first 8 chunks at 7/8\n",
      "Size of train + test: (13248, 32)\n",
      "{1.0: 365}\n",
      "Accuracy on fold 8: 1.0\n",
      "\n",
      "Splitting the first 9 chunks at 8/9\n",
      "Size of train + test: (14904, 32)\n",
      "{1.0: 365}\n",
      "Accuracy on fold 9: 0.8684931506849315\n",
      "\n",
      "Splitting the first 10 chunks at 9/10\n",
      "Size of train + test: (16560, 32)\n",
      "{0.0: 365}\n",
      "Accuracy on fold 10: 1.0\n"
     ]
    },
    {
     "data": {
      "text/plain": [
       "0.7442922374429224"
      ]
     },
     "execution_count": 28,
     "metadata": {},
     "output_type": "execute_result"
    }
   ],
   "source": [
    "performTimeSeriesCV(X_train, y_train, 32, 10, 'GB', [])"
   ]
  },
  {
   "cell_type": "code",
   "execution_count": 29,
   "metadata": {},
   "outputs": [
    {
     "name": "stdout",
     "output_type": "stream",
     "text": [
      "Parameters --------------------------------> []\n",
      "Size train set: (16547, 52)\n",
      "Size of each fold: 1654\n",
      "\n",
      "Splitting the first 2 chunks at 1/2\n",
      "Size of train + test: (3308, 52)\n",
      "{0.0: 365}\n",
      "Accuracy on fold 2: 0.473972602739726\n",
      "\n",
      "Splitting the first 3 chunks at 2/3\n",
      "Size of train + test: (4962, 52)\n",
      "{0.0: 365}\n",
      "Accuracy on fold 3: 0.410958904109589\n",
      "\n",
      "Splitting the first 4 chunks at 3/4\n",
      "Size of train + test: (6616, 52)\n",
      "{0.0: 104, 1.0: 261}\n",
      "Accuracy on fold 4: 0.3041095890410959\n",
      "\n",
      "Splitting the first 5 chunks at 4/5\n",
      "Size of train + test: (8270, 52)\n",
      "{0.0: 1, 1.0: 364}\n",
      "Accuracy on fold 5: 0.7671232876712328\n",
      "\n",
      "Splitting the first 6 chunks at 5/6\n",
      "Size of train + test: (9924, 52)\n",
      "{0.0: 365}\n",
      "Accuracy on fold 6: 0.4\n",
      "\n",
      "Splitting the first 7 chunks at 6/7\n",
      "Size of train + test: (11578, 52)\n",
      "{0.0: 365}\n",
      "Accuracy on fold 7: 1.0\n",
      "\n",
      "Splitting the first 8 chunks at 7/8\n",
      "Size of train + test: (13232, 52)\n",
      "{0.0: 4, 1.0: 361}\n",
      "Accuracy on fold 8: 0.989041095890411\n",
      "\n",
      "Splitting the first 9 chunks at 8/9\n",
      "Size of train + test: (14886, 52)\n",
      "{0.0: 52, 1.0: 313}\n",
      "Accuracy on fold 9: 0.989041095890411\n",
      "\n",
      "Splitting the first 10 chunks at 9/10\n",
      "Size of train + test: (16540, 52)\n",
      "{0.0: 365}\n",
      "Accuracy on fold 10: 1.0\n"
     ]
    },
    {
     "data": {
      "text/plain": [
       "0.7038051750380517"
      ]
     },
     "execution_count": 29,
     "metadata": {},
     "output_type": "execute_result"
    }
   ],
   "source": [
    "performTimeSeriesCV(X_train_lagged, y_train_lagged, 52, 10, 'GB', [])"
   ]
  },
  {
   "cell_type": "markdown",
   "metadata": {},
   "source": [
    "The accuracy gets worst for GB. And how is about MLP?"
   ]
  },
  {
   "cell_type": "code",
   "execution_count": 30,
   "metadata": {},
   "outputs": [
    {
     "name": "stdout",
     "output_type": "stream",
     "text": [
      "Parameters --------------------------------> []\n",
      "Size train set: (16567, 32)\n",
      "Size of each fold: 1656\n",
      "\n",
      "Splitting the first 2 chunks at 1/2\n",
      "Size of train + test: (3312, 32)\n",
      "WARNING:tensorflow:From /home/biosys/anaconda3/envs/fastai/lib/python3.6/site-packages/tensorflow/python/framework/op_def_library.py:263: colocate_with (from tensorflow.python.framework.ops) is deprecated and will be removed in a future version.\n",
      "Instructions for updating:\n",
      "Colocations handled automatically by placer.\n",
      "WARNING:tensorflow:From /home/biosys/anaconda3/envs/fastai/lib/python3.6/site-packages/tensorflow/python/ops/math_ops.py:3066: to_int32 (from tensorflow.python.ops.math_ops) is deprecated and will be removed in a future version.\n",
      "Instructions for updating:\n",
      "Use tf.cast instead.\n",
      "Epoch 1/1\n",
      "1656/1656 [==============================] - 0s 195us/step - loss: 11.8744 - acc: 0.2633\n",
      "{0: 365}\n",
      "Accuracy on fold 2: 0.5232876712328767\n",
      "\n",
      "Splitting the first 3 chunks at 2/3\n",
      "Size of train + test: (4968, 32)\n",
      "Epoch 1/1\n",
      "3312/3312 [==============================] - 0s 117us/step - loss: 3.4705 - acc: 0.7823\n",
      "{1: 365}\n",
      "Accuracy on fold 3: 0.5452054794520548\n",
      "\n",
      "Splitting the first 4 chunks at 3/4\n",
      "Size of train + test: (6624, 32)\n",
      "Epoch 1/1\n",
      "4968/4968 [==============================] - 1s 103us/step - loss: 5.7514 - acc: 0.6403\n",
      "{0: 365}\n",
      "Accuracy on fold 4: 0.3726027397260274\n",
      "\n",
      "Splitting the first 5 chunks at 4/5\n",
      "Size of train + test: (8280, 32)\n",
      "Epoch 1/1\n",
      "6624/6624 [==============================] - 1s 97us/step - loss: 5.4226 - acc: 0.6597\n",
      "{1: 365}\n",
      "Accuracy on fold 5: 0.7972602739726027\n",
      "\n",
      "Splitting the first 6 chunks at 5/6\n",
      "Size of train + test: (9936, 32)\n",
      "Epoch 1/1\n",
      "8280/8280 [==============================] - 1s 91us/step - loss: 9.7883 - acc: 0.3919\n",
      "{0: 365}\n",
      "Accuracy on fold 6: 0.4273972602739726\n",
      "\n",
      "Splitting the first 7 chunks at 6/7\n",
      "Size of train + test: (11592, 32)\n",
      "Epoch 1/1\n",
      "9936/9936 [==============================] - 1s 101us/step - loss: 8.1539 - acc: 0.4920\n",
      "{0: 365}\n",
      "Accuracy on fold 7: 1.0\n",
      "\n",
      "Splitting the first 8 chunks at 7/8\n",
      "Size of train + test: (13248, 32)\n",
      "Epoch 1/1\n",
      "11592/11592 [==============================] - 1s 94us/step - loss: 8.1995 - acc: 0.4913\n",
      "{0: 365}\n",
      "Accuracy on fold 8: 0.0\n",
      "\n",
      "Splitting the first 9 chunks at 8/9\n",
      "Size of train + test: (14904, 32)\n",
      "Epoch 1/1\n",
      "13248/13248 [==============================] - 1s 95us/step - loss: 8.4473 - acc: 0.4753\n",
      "{0: 365}\n",
      "Accuracy on fold 9: 0.13150684931506848\n",
      "\n",
      "Splitting the first 10 chunks at 9/10\n",
      "Size of train + test: (16560, 32)\n",
      "Epoch 1/1\n",
      "14904/14904 [==============================] - 1s 96us/step - loss: 7.6449 - acc: 0.5257\n",
      "{0: 365}\n",
      "Accuracy on fold 10: 1.0\n"
     ]
    },
    {
     "data": {
      "text/plain": [
       "0.5330289193302892"
      ]
     },
     "execution_count": 30,
     "metadata": {},
     "output_type": "execute_result"
    }
   ],
   "source": [
    "performTimeSeriesCV(X_train, y_train, 32, 10, 'MLP', [])"
   ]
  },
  {
   "cell_type": "code",
   "execution_count": null,
   "metadata": {},
   "outputs": [],
   "source": [
    "performTimeSeriesCV(X_train_lagged, y_train_lagged, 52, 10, 'MLP', [])"
   ]
  },
  {
   "cell_type": "markdown",
   "metadata": {},
   "source": [
    "## Removing least important features and do cross validation again"
   ]
  },
  {
   "cell_type": "code",
   "execution_count": null,
   "metadata": {},
   "outputs": [],
   "source": [
    "to_keep = fi[fi.imp>0.005].cols; len(to_keep)\n",
    "\n",
    "X_train = X_train[to_keep].copy()\n",
    "X_valid = X_valid[to_keep].copy()\n",
    "\n",
    "X_train.shape, X_valid.shape"
   ]
  },
  {
   "cell_type": "code",
   "execution_count": null,
   "metadata": {},
   "outputs": [],
   "source": [
    "performTimeSeriesCV(X_train, y_train, 16, 10, 'RF', [])"
   ]
  },
  {
   "cell_type": "code",
   "execution_count": null,
   "metadata": {},
   "outputs": [],
   "source": [
    "performTimeSeriesCV(X_train, y_train, 16, 10, 'GB', [])"
   ]
  },
  {
   "cell_type": "code",
   "execution_count": null,
   "metadata": {},
   "outputs": [],
   "source": [
    "performTimeSeriesCV(X_train, y_train, 16, 10, 'MLP', [])"
   ]
  }
 ],
 "metadata": {
  "kernelspec": {
   "display_name": "Python 3",
   "language": "python",
   "name": "python3"
  },
  "language_info": {
   "codemirror_mode": {
    "name": "ipython",
    "version": 3
   },
   "file_extension": ".py",
   "mimetype": "text/x-python",
   "name": "python",
   "nbconvert_exporter": "python",
   "pygments_lexer": "ipython3",
   "version": "3.6.8"
  }
 },
 "nbformat": 4,
 "nbformat_minor": 2
}
